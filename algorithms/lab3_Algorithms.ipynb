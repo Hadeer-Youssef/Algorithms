{
 "cells": [
  {
   "cell_type": "markdown",
   "id": "25762c1b",
   "metadata": {},
   "source": [
    "## quickSort Desending for get max profit  throw max value"
   ]
  },
  {
   "cell_type": "code",
   "execution_count": 1,
   "id": "f6d87c8f",
   "metadata": {},
   "outputs": [
    {
     "name": "stdout",
     "output_type": "stream",
     "text": [
      "n= 7\n",
      "Sorted array is:\n",
      "[15, 5]\n",
      "[10, 3]\n",
      "[9, 3]\n",
      "[8, 1]\n",
      "[7, 4]\n",
      "[5, 1]\n",
      "[4, 2]\n"
     ]
    }
   ],
   "source": [
    "\n",
    "def partition(arr_object, low, high):\n",
    "    #for k in range(0,len(arr_object)):\n",
    "    i = (low-1)         # index of smaller element\n",
    "    pivot = arr_object[high][0]     # pivot\n",
    " \n",
    "    for j in range(low, high):\n",
    " \n",
    "        # If current element is smaller than or\n",
    "        # equal to pivot\n",
    "        if arr_object[j][0] >= pivot:\n",
    " \n",
    "            # increment index of smaller element\n",
    "            i = i+1\n",
    "            #swap(i,j)\n",
    "            arr_object[i], arr_object[j] = arr_object[j], arr_object[i]\n",
    " \n",
    "    arr_object[i+1], arr_object[high] = arr_object[high], arr_object[i+1]\n",
    "    return (i+1)\n",
    " \n",
    "\n",
    "    \n",
    "def quickSort(arr_object, low, high):\n",
    "    if len(arr_object) == 1:\n",
    "        return arr_object\n",
    "    if low < high:\n",
    " \n",
    "        # pi is partitioning index, arr[p] is now\n",
    "        # at right place\n",
    "        pi = partition(arr_object, low, high)\n",
    " \n",
    "        # Separately sort elements before\n",
    "        # partition and after partition\n",
    "        quickSort(arr_object, low, pi-1)\n",
    "        quickSort(arr_object, pi+1, high)\n",
    " \n",
    "#Driver code to test above\n",
    "arr_profit=[5,10,15,7,8,9,4]\n",
    "arr_weight=[1,3,5,4,1,3,2]\n",
    "max_weight=15\n",
    "arr_object=[[5,1],[10,3],[15,5],[7,4],[8,1],[9,3],[4,2]]\n",
    "n = len(arr_object)\n",
    "print(\"n=\",n)\n",
    "quickSort(arr_object,0, n-1)\n",
    "#FracKnapsack(arr_profit,arr_weight,max_weight,n)\n",
    "\n",
    "print(\"Sorted array is:\")\n",
    "for i in range(0,7):\n",
    "   # print(arr_profit[i][0])\n",
    "       print( arr_object[i])"
   ]
  },
  {
   "cell_type": "markdown",
   "id": "10071233",
   "metadata": {},
   "source": [
    "# ##  using FracKnapsack throw max profit"
   ]
  },
  {
   "cell_type": "code",
   "execution_count": 3,
   "id": "20ef71ee",
   "metadata": {},
   "outputs": [],
   "source": [
    "\n",
    "def FracKnapsack_maxprofit(arr_object,max_weight,n):\n",
    "    \n",
    "    quickSort(arr_object,0, n-1)\n",
    "    print(\"descending profit is:\")\n",
    "    for i in range(0,n):\n",
    "   # print(arr_profit[i][0])\n",
    "       print(arr_object[i])\n",
    "    \n",
    "    #arr_object=[]\n",
    "   # for i in range(0,n):\n",
    "        # arr_object[i].append((arr_profit[i],arr_weight[i]))\n",
    "    print(arr_object)        \n",
    "    result =0\n",
    "    \n",
    "    remain =max_weight\n",
    "    while remain!=0 :\n",
    "        \n",
    "          for i in range(0,n):\n",
    "                if arr_object[i][1]<= remain :\n",
    "                \n",
    "                    remain =remain-arr_object[i][1] #weight\n",
    "                    result =result+arr_object[i][0] #profit\n",
    "                    print(\"remain=\",remain,\" result=\",result)  \n",
    "                \n",
    "        \n",
    "                elif arr_object[i][1] >remain :\n",
    "                \n",
    "                    res= (arr_object[i][0])*(remain/arr_object[i][1])\n",
    "                    result = result+res\n",
    "                    remain=0 \n",
    "                    print(\"res=\",res,\" result=\",result)  \n",
    "                 \n",
    "                         \n",
    "   \n",
    "    \n",
    "    print(\"max profit =\" ,result)\n",
    "\n",
    "    "
   ]
  },
  {
   "cell_type": "code",
   "execution_count": 4,
   "id": "8ec2a742",
   "metadata": {},
   "outputs": [
    {
     "name": "stdout",
     "output_type": "stream",
     "text": [
      "descending profit is:\n",
      "[15, 5]\n",
      "[10, 3]\n",
      "[9, 3]\n",
      "[8, 1]\n",
      "[7, 4]\n",
      "[5, 1]\n",
      "[4, 2]\n",
      "[[15, 5], [10, 3], [9, 3], [8, 1], [7, 4], [5, 1], [4, 2]]\n",
      "remain= 10  result= 15\n",
      "remain= 7  result= 25\n",
      "remain= 4  result= 34\n",
      "remain= 3  result= 42\n",
      "res= 5.25  result= 47.25\n",
      "res= 0.0  result= 47.25\n",
      "res= 0.0  result= 47.25\n",
      "max profit = 47.25\n"
     ]
    }
   ],
   "source": [
    "arr_object=[[5,1],[10,3],[15,5],[7,4],[8,1],[9,3],[4,2]]\n",
    "n = len(arr_object)\n",
    "max_weight=15\n",
    "FracKnapsack_maxprofit(arr_object,max_weight,n)"
   ]
  },
  {
   "cell_type": "markdown",
   "id": "13e8fd8c",
   "metadata": {},
   "source": [
    "## # #####using 0/1 knapsack throw max profit"
   ]
  },
  {
   "cell_type": "code",
   "execution_count": 2,
   "id": "b498ec13",
   "metadata": {},
   "outputs": [],
   "source": [
    "#########using 0/1 knapsack throw max profit\n",
    "def Knapsack0_1_maxprofit(arr_object,max_weight,n):\n",
    "    \n",
    "    quickSort(arr_object,0, n-1)\n",
    "    print(\"descending profit is:\")\n",
    "    for i in range(0,n):\n",
    "   # print(arr_profit[i][0])\n",
    "       print(arr_object[i])\n",
    "    \n",
    "    #arr_object=[]\n",
    "   # for i in range(0,n):\n",
    "        # arr_object[i].append((arr_profit[i],arr_weight[i]))\n",
    "    print(arr_object)        \n",
    "    result =0\n",
    "    \n",
    "    remain =max_weight\n",
    "    while remain!=0 :\n",
    "        \n",
    "          for i in range(0,n):\n",
    "                if arr_object[i][1]<= remain :\n",
    "                \n",
    "                    remain =remain-arr_object[i][1] #weight\n",
    "                    result =result+arr_object[i][0] #profit\n",
    "                    print(\"remain=\",remain,\" result=\",result) \n",
    "    print(\"max profit =\" ,result)              \n",
    "                    "
   ]
  },
  {
   "cell_type": "code",
   "execution_count": 3,
   "id": "56989374",
   "metadata": {},
   "outputs": [
    {
     "name": "stdout",
     "output_type": "stream",
     "text": [
      "descending profit is:\n",
      "[15, 5]\n",
      "[10, 3]\n",
      "[9, 3]\n",
      "[8, 1]\n",
      "[7, 4]\n",
      "[5, 1]\n",
      "[4, 2]\n",
      "[[15, 5], [10, 3], [9, 3], [8, 1], [7, 4], [5, 1], [4, 2]]\n",
      "remain= 10  result= 15\n",
      "remain= 7  result= 25\n",
      "remain= 4  result= 34\n",
      "remain= 3  result= 42\n",
      "remain= 2  result= 47\n",
      "remain= 0  result= 51\n",
      "max profit = 51\n"
     ]
    }
   ],
   "source": [
    "arr_object=[[5,1],[10,3],[15,5],[7,4],[8,1],[9,3],[4,2]]\n",
    "n = len(arr_object)\n",
    "max_weight=15\n",
    "Knapsack0_1_maxprofit(arr_object,max_weight,n)"
   ]
  },
  {
   "cell_type": "markdown",
   "id": "fb8002d2",
   "metadata": {},
   "source": [
    "## ## ## quickSort ascending to find max profit through min weight"
   ]
  },
  {
   "cell_type": "code",
   "execution_count": 1,
   "id": "6c4fa02f",
   "metadata": {},
   "outputs": [],
   "source": [
    "\n",
    "################ to find max profit through min weight *******************\n",
    "def partition(arr_object, low, high):\n",
    "    #for k in range(0,len(arr_object)):\n",
    "    i = (low-1)         # index of smaller element\n",
    "    pivot = arr_object[high][1]     # pivot\n",
    " \n",
    "    for j in range(low, high):\n",
    " \n",
    "        # If current element is smaller than or\n",
    "        # equal to pivot\n",
    "        if arr_object[j][1] <= pivot:\n",
    " \n",
    "            # increment index of smaller element\n",
    "            i = i+1\n",
    "            #swap(i,j)\n",
    "            arr_object[i], arr_object[j] = arr_object[j], arr_object[i]\n",
    " \n",
    "    arr_object[i+1], arr_object[high] = arr_object[high], arr_object[i+1]\n",
    "    return (i+1)\n",
    " \n",
    "\n",
    "    \n",
    "def quickSortmin(arr_object, low, high):\n",
    "    if len(arr_object) == 1:\n",
    "        return arr_object\n",
    "    if low < high:\n",
    " \n",
    "        # pi is partitioning index, arr[p] is now\n",
    "        # at right place\n",
    "        pi = partition(arr_object, low, high)\n",
    " \n",
    "        # Separately sort elements before\n",
    "        # partition and after partition\n",
    "        quickSortmin(arr_object, low, pi-1)\n",
    "        quickSortmin(arr_object, pi+1, high)"
   ]
  },
  {
   "cell_type": "code",
   "execution_count": null,
   "id": "1cf16b0c",
   "metadata": {},
   "outputs": [],
   "source": []
  },
  {
   "cell_type": "code",
   "execution_count": null,
   "id": "d58835cc",
   "metadata": {},
   "outputs": [],
   "source": [
    "arr_object=[[5,1],[10,3],[15,5],[7,4],[8,1],[9,3],[4,2]]\n",
    "n = len(arr_object)\n",
    "print(\"n=\",n)\n",
    "quickSortmin(arr_object,0, n-1)\n",
    "#FracKnapsack(arr_profit,arr_weight,max_weight,n)\n",
    "\n",
    "print(\"Sorted array according ascending weight is:\")\n",
    "for i in range(0,6):\n",
    "   # print(arr_profit[i][0])\n",
    "       print( arr_object[i])"
   ]
  },
  {
   "cell_type": "markdown",
   "id": "7649e06b",
   "metadata": {},
   "source": [
    "# #using FracKnapsack to find max profit through min weight"
   ]
  },
  {
   "cell_type": "code",
   "execution_count": 2,
   "id": "b3f66f1d",
   "metadata": {},
   "outputs": [],
   "source": [
    "def FracKnapsack_minweight(arr_object,max_weight,n):\n",
    "    quickSortmin(arr_object,0, n-1)\n",
    "    print(\"min weight is:\")\n",
    "    for i in range(0,n-1):\n",
    "   # print(arr_profit[i][0])\n",
    "       print(arr_object[i])\n",
    "    \n",
    "   # for i in range(0,n):\n",
    "        # arr_object[i].append((arr_profit[i],arr_weight[i]))\n",
    "    result =0 \n",
    "    remain =max_weight\n",
    "    while remain!=0 :\n",
    "        \n",
    "          for i in range(0,n):\n",
    "                if arr_object[i][1]<= remain :\n",
    "                \n",
    "                    remain =remain-arr_object[i][1] #weight\n",
    "                    result =result+arr_object[i][0] #profit\n",
    "                    print(\"remain=\",remain,\" result=\",result)  \n",
    "                \n",
    "        \n",
    "                elif arr_object[i][1] >remain :\n",
    "                \n",
    "                    res= (arr_object[i][0])*(remain/arr_object[i][1])\n",
    "                    result = result+res\n",
    "                    remain=0 \n",
    "                    print(\"res=\",res,\" result=\",result)  \n",
    "                 \n",
    "                         \n",
    "   \n",
    "    \n",
    "    print(\"max profit =\" ,result)\n",
    "\n",
    "    "
   ]
  },
  {
   "cell_type": "code",
   "execution_count": 3,
   "id": "f57cf055",
   "metadata": {},
   "outputs": [
    {
     "name": "stdout",
     "output_type": "stream",
     "text": [
      "min weight is:\n",
      "[5, 1]\n",
      "[8, 1]\n",
      "[4, 2]\n",
      "[10, 3]\n",
      "[9, 3]\n",
      "[7, 4]\n",
      "remain= 14  result= 5\n",
      "remain= 13  result= 13\n",
      "remain= 11  result= 17\n",
      "remain= 8  result= 27\n",
      "remain= 5  result= 36\n",
      "remain= 1  result= 43\n",
      "res= 3.0  result= 46.0\n",
      "max profit = 46.0\n"
     ]
    }
   ],
   "source": [
    "arr_object=[[5,1],[10,3],[15,5],[7,4],[8,1],[9,3],[4,2]]\n",
    "n = len(arr_object)\n",
    "max_weight=15\n",
    "FracKnapsack_minweight(arr_object,max_weight,n)"
   ]
  },
  {
   "cell_type": "markdown",
   "id": "ef623eb3",
   "metadata": {},
   "source": [
    "###  #####using 0/1 knapsack to find max profit through min weight"
   ]
  },
  {
   "cell_type": "code",
   "execution_count": 2,
   "id": "f1e19970",
   "metadata": {},
   "outputs": [],
   "source": [
    "def Knapsack0_1_minweight(arr_object,max_weight,n):\n",
    "    quickSortmin(arr_object,0, n-1)\n",
    "    print(\"min weight is:\")\n",
    "    for i in range(0,n-1):\n",
    "   # print(arr_profit[i][0])\n",
    "       print(arr_object[i])\n",
    "    \n",
    "   # for i in range(0,n):\n",
    "        # arr_object[i].append((arr_profit[i],arr_weight[i]))\n",
    "    result =0 \n",
    "    remain =max_weight\n",
    "    while remain!=0 :\n",
    "        \n",
    "          for i in range(0,n):\n",
    "                if arr_object[i][1]<= remain :\n",
    "                \n",
    "                    remain =remain-arr_object[i][1] #weight\n",
    "                    result =result+arr_object[i][0] #profit\n",
    "                    print(\"remain=\",remain,\" result=\",result) \n",
    "                    \n",
    "    print(\"max profit =\" ,result)                \n",
    "                "
   ]
  },
  {
   "cell_type": "code",
   "execution_count": 3,
   "id": "3a029cc7",
   "metadata": {},
   "outputs": [
    {
     "name": "stdout",
     "output_type": "stream",
     "text": [
      "min weight is:\n",
      "[5, 1]\n",
      "[8, 1]\n",
      "[4, 2]\n",
      "[10, 3]\n",
      "[9, 3]\n",
      "[7, 4]\n",
      "remain= 14  result= 5\n",
      "remain= 13  result= 13\n",
      "remain= 11  result= 17\n",
      "remain= 8  result= 27\n",
      "remain= 5  result= 36\n",
      "remain= 1  result= 43\n",
      "remain= 0  result= 48\n",
      "max profit = 48\n"
     ]
    }
   ],
   "source": [
    "arr_object=[[5,1],[10,3],[15,5],[7,4],[8,1],[9,3],[4,2]]\n",
    "n = len(arr_object)\n",
    "max_weight=15\n",
    "Knapsack0_1_minweight(arr_object,max_weight,n)"
   ]
  },
  {
   "cell_type": "markdown",
   "id": "97a27517",
   "metadata": {},
   "source": [
    "## quickSort Desending for get max profit throw ratio profit/weight"
   ]
  },
  {
   "cell_type": "code",
   "execution_count": 2,
   "id": "769ce8b2",
   "metadata": {},
   "outputs": [
    {
     "name": "stdout",
     "output_type": "stream",
     "text": [
      "cost 0 = 5.0\n",
      "cost 1 = 3.3333333333333335\n",
      "cost 2 = 3.0\n",
      "cost 3 = 1.75\n",
      "cost 4 = 8.0\n",
      "cost 5 = 3.0\n",
      "cost 6 = 2.0\n",
      "cost= [5.0, 3.3333333333333335, 3.0, 1.75, 8.0, 3.0, 2.0]\n"
     ]
    }
   ],
   "source": [
    "arr_object=[[5,1],[10,3],[15,5],[7,4],[8,1],[9,3],[4,2]]\n",
    "n = len(arr_object)\n",
    "cost=[]\n",
    "for i in range(0,n):\n",
    "        cost.append(float(arr_object[i][0])/float (arr_object[i][1]))\n",
    "        print(\"cost\",i,\"=\",cost[i])\n",
    "   \n",
    "print(\"cost=\",cost)   \n",
    "#quickSort(cost, 0, n-1)\n",
    "#print(\"ratio between profit and weight  arrange descending:\")\n",
    "#for i in range(0,n-1):\n",
    "     #print(\"%f\" % cost[i])\n",
    "max_weight=15"
   ]
  },
  {
   "cell_type": "code",
   "execution_count": 3,
   "id": "99a51edd",
   "metadata": {},
   "outputs": [],
   "source": [
    "def partition(cost, low, high):\n",
    "    #for k in range(0,len(arr_object)):\n",
    "    i = (low-1)         # index of smaller element\n",
    "    pivot = cost[high]     # pivot\n",
    " \n",
    "    for j in range(low, high):\n",
    " \n",
    "        # If current element is smaller than or\n",
    "        # equal to pivot\n",
    "        if cost[j] >= pivot:\n",
    " \n",
    "            # increment index of smaller element\n",
    "            i = i+1\n",
    "            #swap(i,j)\n",
    "            cost[i], cost[j] = cost[j],cost[i]\n",
    "            arr_object[i], arr_object[j] = arr_object[j], arr_object[i]\n",
    " \n",
    "    arr_object[i+1], arr_object[high] = arr_object[high], arr_object[i+1]\n",
    "    cost[i+1], cost[high] = cost[high], cost[i+1]\n",
    "    return (i+1)\n",
    " \n",
    "\n",
    "    \n",
    "def quickSort(cost, low, high):\n",
    "    if len(arr_object) == 1:\n",
    "        return arr_object\n",
    "    if low < high:\n",
    " \n",
    "        # pi is partitioning index, arr[p] is now\n",
    "        # at right place\n",
    "        pi = partition(cost, low, high)\n",
    " \n",
    "        # Separately sort elements before\n",
    "        # partition and after partition\n",
    "        quickSort(cost, low, pi-1)\n",
    "        quickSort(cost, pi+1, high)\n",
    " "
   ]
  },
  {
   "cell_type": "markdown",
   "id": "8db6f3c0",
   "metadata": {},
   "source": [
    "# #FracKnapsack_maxratio to find max profit throw max ratio"
   ]
  },
  {
   "cell_type": "code",
   "execution_count": 16,
   "id": "193ad1ce",
   "metadata": {},
   "outputs": [],
   "source": [
    "def FracKnapsack_maxratio(arr_object,max_weight,n):\n",
    "    quickSort(cost, 0, n-1)\n",
    "    print(\"ratio between profit and weight  arrange descending:\")\n",
    "    for i in range(0,n-1):\n",
    "        print(\"%f\" % cost[i])\n",
    "        \n",
    "    print(arr_object)\n",
    "    result =0 \n",
    "    remain =max_weight\n",
    "    while remain!=0 :\n",
    "        \n",
    "          for i in range(0,n):\n",
    "                if arr_object[i][1]<= remain :\n",
    "                \n",
    "                    remain =remain-arr_object[i][1] #weight\n",
    "                    result =result+arr_object[i][0] #profit\n",
    "                    print(\"remain=\",remain,\" result=\",result)  \n",
    "                \n",
    "        \n",
    "                elif arr_object[i][1] >remain :\n",
    "                \n",
    "                    res= (arr_object[i][0])*(remain/arr_object[i][1])\n",
    "                    result = result+res\n",
    "                    remain=0 \n",
    "                    print(\"res=\",res,\" result=\",result)  \n",
    "                 \n",
    "                         \n",
    "   \n",
    "    \n",
    "    print(\"max profit =\" ,result)\n",
    "\n",
    "    "
   ]
  },
  {
   "cell_type": "code",
   "execution_count": 17,
   "id": "250b567f",
   "metadata": {},
   "outputs": [
    {
     "name": "stdout",
     "output_type": "stream",
     "text": [
      "ratio between profit and weight  arrange descending:\n",
      "8.000000\n",
      "5.000000\n",
      "3.333333\n",
      "3.000000\n",
      "3.000000\n",
      "2.000000\n",
      "[[8, 1], [5, 1], [10, 3], [15, 5], [9, 3], [4, 2], [7, 4]]\n",
      "remain= 14  result= 8\n",
      "remain= 13  result= 13\n",
      "remain= 10  result= 23\n",
      "remain= 5  result= 38\n",
      "remain= 2  result= 47\n",
      "remain= 0  result= 51\n",
      "res= 0.0  result= 51.0\n",
      "max profit = 51.0\n"
     ]
    }
   ],
   "source": [
    "FracKnapsack_maxratio(arr_object,max_weight,n)"
   ]
  },
  {
   "cell_type": "markdown",
   "id": "070dfd9c",
   "metadata": {},
   "source": [
    "# Knapsack0_1_maxratio to find max profit throw max ratio\n"
   ]
  },
  {
   "cell_type": "code",
   "execution_count": 4,
   "id": "28cc4ef0",
   "metadata": {},
   "outputs": [],
   "source": [
    "def Knapsack_0_1_maxratio(arr_object,max_weight,n):\n",
    "    quickSort(cost, 0, n-1)\n",
    "    print(\"ratio between profit and weight  arrange descending:\")\n",
    "    for i in range(0,n-1):\n",
    "        print(\"%f\" % cost[i])\n",
    "        \n",
    "    print(arr_object)\n",
    "    result =0 \n",
    "    remain =max_weight\n",
    "    while remain!=0 :\n",
    "        \n",
    "          for i in range(0,n):\n",
    "                if arr_object[i][1]<= remain :\n",
    "                \n",
    "                    remain =remain-arr_object[i][1] #weight\n",
    "                    result =result+arr_object[i][0] #profit\n",
    "                    print(\"remain=\",remain,\" result=\",result)  \n",
    "    print(\"max profit =\" ,result)             \n",
    "        "
   ]
  },
  {
   "cell_type": "code",
   "execution_count": 5,
   "id": "8c6c381e",
   "metadata": {
    "scrolled": true
   },
   "outputs": [
    {
     "name": "stdout",
     "output_type": "stream",
     "text": [
      "ratio between profit and weight  arrange descending:\n",
      "8.000000\n",
      "5.000000\n",
      "3.333333\n",
      "3.000000\n",
      "3.000000\n",
      "2.000000\n",
      "[[8, 1], [5, 1], [10, 3], [15, 5], [9, 3], [4, 2], [7, 4]]\n",
      "remain= 14  result= 8\n",
      "remain= 13  result= 13\n",
      "remain= 10  result= 23\n",
      "remain= 5  result= 38\n",
      "remain= 2  result= 47\n",
      "remain= 0  result= 51\n",
      "max profit = 51\n"
     ]
    }
   ],
   "source": [
    "Knapsack_0_1_maxratio(arr_object,max_weight,n)"
   ]
  }
 ],
 "metadata": {
  "kernelspec": {
   "display_name": "Python 3 (ipykernel)",
   "language": "python",
   "name": "python3"
  },
  "language_info": {
   "codemirror_mode": {
    "name": "ipython",
    "version": 3
   },
   "file_extension": ".py",
   "mimetype": "text/x-python",
   "name": "python",
   "nbconvert_exporter": "python",
   "pygments_lexer": "ipython3",
   "version": "3.9.7"
  }
 },
 "nbformat": 4,
 "nbformat_minor": 5
}
